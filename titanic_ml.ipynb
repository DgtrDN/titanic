{
 "cells": [
  {
   "cell_type": "markdown",
   "id": "e0527b77",
   "metadata": {},
   "source": [
    "https://www.kaggle.com/competitions/titanic/overview"
   ]
  },
  {
   "cell_type": "code",
   "execution_count": 1,
   "id": "5a8892dc",
   "metadata": {},
   "outputs": [],
   "source": [
    "import matplotlib.pyplot as plt\n",
    "import pandas as pd\n",
    "import kaggle\n",
    "from sklearn.linear_model import LogisticRegression as lo"
   ]
  },
  {
   "cell_type": "code",
   "execution_count": 2,
   "id": "7158fd4d",
   "metadata": {},
   "outputs": [
    {
     "name": "stdout",
     "output_type": "stream",
     "text": [
      "titanic.zip: Skipping, found more recently modified local copy (use --force to force download)\n"
     ]
    }
   ],
   "source": [
    "!kaggle competitions download -c titanic"
   ]
  },
  {
   "cell_type": "code",
   "execution_count": 3,
   "id": "bf049bb9",
   "metadata": {},
   "outputs": [],
   "source": [
    "import zipfile\n",
    "import os\n",
    "\n",
    "zip_path = r'D:/Documents/python_projects/titanic/titanic.zip'\n",
    "extract_to = r'D:/Documents/python_projects/titanic/'\n",
    "\n",
    "# Распаковка\n",
    "with zipfile.ZipFile(zip_path, 'r') as zip_ref:\n",
    "    zip_ref.extractall(extract_to)"
   ]
  },
  {
   "cell_type": "code",
   "execution_count": 4,
   "id": "7167c186",
   "metadata": {},
   "outputs": [],
   "source": [
    "df_train = pd.read_csv(os.path.join(extract_to, 'train.csv'))\n",
    "df_test = pd.read_csv(os.path.join(extract_to, 'test.csv'))"
   ]
  },
  {
   "cell_type": "code",
   "execution_count": 5,
   "id": "d12f561a",
   "metadata": {},
   "outputs": [
    {
     "name": "stdout",
     "output_type": "stream",
     "text": [
      "<class 'pandas.core.frame.DataFrame'>\n",
      "RangeIndex: 891 entries, 0 to 890\n",
      "Data columns (total 12 columns):\n",
      " #   Column       Non-Null Count  Dtype  \n",
      "---  ------       --------------  -----  \n",
      " 0   PassengerId  891 non-null    int64  \n",
      " 1   Survived     891 non-null    int64  \n",
      " 2   Pclass       891 non-null    int64  \n",
      " 3   Name         891 non-null    object \n",
      " 4   Sex          891 non-null    object \n",
      " 5   Age          714 non-null    float64\n",
      " 6   SibSp        891 non-null    int64  \n",
      " 7   Parch        891 non-null    int64  \n",
      " 8   Ticket       891 non-null    object \n",
      " 9   Fare         891 non-null    float64\n",
      " 10  Cabin        204 non-null    object \n",
      " 11  Embarked     889 non-null    object \n",
      "dtypes: float64(2), int64(5), object(5)\n",
      "memory usage: 83.7+ KB\n"
     ]
    }
   ],
   "source": [
    "df_train.info()"
   ]
  },
  {
   "cell_type": "code",
   "execution_count": 6,
   "id": "8e867707",
   "metadata": {},
   "outputs": [
    {
     "name": "stdout",
     "output_type": "stream",
     "text": [
      "<class 'pandas.core.frame.DataFrame'>\n",
      "RangeIndex: 418 entries, 0 to 417\n",
      "Data columns (total 11 columns):\n",
      " #   Column       Non-Null Count  Dtype  \n",
      "---  ------       --------------  -----  \n",
      " 0   PassengerId  418 non-null    int64  \n",
      " 1   Pclass       418 non-null    int64  \n",
      " 2   Name         418 non-null    object \n",
      " 3   Sex          418 non-null    object \n",
      " 4   Age          332 non-null    float64\n",
      " 5   SibSp        418 non-null    int64  \n",
      " 6   Parch        418 non-null    int64  \n",
      " 7   Ticket       418 non-null    object \n",
      " 8   Fare         417 non-null    float64\n",
      " 9   Cabin        91 non-null     object \n",
      " 10  Embarked     418 non-null    object \n",
      "dtypes: float64(2), int64(4), object(5)\n",
      "memory usage: 36.1+ KB\n"
     ]
    }
   ],
   "source": [
    "df_test.info()"
   ]
  },
  {
   "cell_type": "code",
   "execution_count": 7,
   "id": "db1def6a",
   "metadata": {},
   "outputs": [
    {
     "data": {
      "application/vnd.microsoft.datawrangler.viewer.v0+json": {
       "columns": [
        {
         "name": "index",
         "rawType": "object",
         "type": "string"
        },
        {
         "name": "PassengerId",
         "rawType": "float64",
         "type": "float"
        },
        {
         "name": "Survived",
         "rawType": "float64",
         "type": "float"
        },
        {
         "name": "Pclass",
         "rawType": "float64",
         "type": "float"
        },
        {
         "name": "Age",
         "rawType": "float64",
         "type": "float"
        },
        {
         "name": "SibSp",
         "rawType": "float64",
         "type": "float"
        },
        {
         "name": "Parch",
         "rawType": "float64",
         "type": "float"
        },
        {
         "name": "Fare",
         "rawType": "float64",
         "type": "float"
        }
       ],
       "ref": "3def6a19-c177-414c-86ad-3d5d15bee614",
       "rows": [
        [
         "count",
         "891.0",
         "891.0",
         "891.0",
         "714.0",
         "891.0",
         "891.0",
         "891.0"
        ],
        [
         "mean",
         "446.0",
         "0.3838383838383838",
         "2.308641975308642",
         "29.69911764705882",
         "0.5230078563411896",
         "0.38159371492704824",
         "32.204207968574636"
        ],
        [
         "std",
         "257.3538420152301",
         "0.4865924542648585",
         "0.8360712409770513",
         "14.526497332334044",
         "1.1027434322934275",
         "0.8060572211299559",
         "49.693428597180905"
        ],
        [
         "min",
         "1.0",
         "0.0",
         "1.0",
         "0.42",
         "0.0",
         "0.0",
         "0.0"
        ],
        [
         "25%",
         "223.5",
         "0.0",
         "2.0",
         "20.125",
         "0.0",
         "0.0",
         "7.9104"
        ],
        [
         "50%",
         "446.0",
         "0.0",
         "3.0",
         "28.0",
         "0.0",
         "0.0",
         "14.4542"
        ],
        [
         "75%",
         "668.5",
         "1.0",
         "3.0",
         "38.0",
         "1.0",
         "0.0",
         "31.0"
        ],
        [
         "max",
         "891.0",
         "1.0",
         "3.0",
         "80.0",
         "8.0",
         "6.0",
         "512.3292"
        ]
       ],
       "shape": {
        "columns": 7,
        "rows": 8
       }
      },
      "text/html": [
       "<div>\n",
       "<style scoped>\n",
       "    .dataframe tbody tr th:only-of-type {\n",
       "        vertical-align: middle;\n",
       "    }\n",
       "\n",
       "    .dataframe tbody tr th {\n",
       "        vertical-align: top;\n",
       "    }\n",
       "\n",
       "    .dataframe thead th {\n",
       "        text-align: right;\n",
       "    }\n",
       "</style>\n",
       "<table border=\"1\" class=\"dataframe\">\n",
       "  <thead>\n",
       "    <tr style=\"text-align: right;\">\n",
       "      <th></th>\n",
       "      <th>PassengerId</th>\n",
       "      <th>Survived</th>\n",
       "      <th>Pclass</th>\n",
       "      <th>Age</th>\n",
       "      <th>SibSp</th>\n",
       "      <th>Parch</th>\n",
       "      <th>Fare</th>\n",
       "    </tr>\n",
       "  </thead>\n",
       "  <tbody>\n",
       "    <tr>\n",
       "      <th>count</th>\n",
       "      <td>891.000000</td>\n",
       "      <td>891.000000</td>\n",
       "      <td>891.000000</td>\n",
       "      <td>714.000000</td>\n",
       "      <td>891.000000</td>\n",
       "      <td>891.000000</td>\n",
       "      <td>891.000000</td>\n",
       "    </tr>\n",
       "    <tr>\n",
       "      <th>mean</th>\n",
       "      <td>446.000000</td>\n",
       "      <td>0.383838</td>\n",
       "      <td>2.308642</td>\n",
       "      <td>29.699118</td>\n",
       "      <td>0.523008</td>\n",
       "      <td>0.381594</td>\n",
       "      <td>32.204208</td>\n",
       "    </tr>\n",
       "    <tr>\n",
       "      <th>std</th>\n",
       "      <td>257.353842</td>\n",
       "      <td>0.486592</td>\n",
       "      <td>0.836071</td>\n",
       "      <td>14.526497</td>\n",
       "      <td>1.102743</td>\n",
       "      <td>0.806057</td>\n",
       "      <td>49.693429</td>\n",
       "    </tr>\n",
       "    <tr>\n",
       "      <th>min</th>\n",
       "      <td>1.000000</td>\n",
       "      <td>0.000000</td>\n",
       "      <td>1.000000</td>\n",
       "      <td>0.420000</td>\n",
       "      <td>0.000000</td>\n",
       "      <td>0.000000</td>\n",
       "      <td>0.000000</td>\n",
       "    </tr>\n",
       "    <tr>\n",
       "      <th>25%</th>\n",
       "      <td>223.500000</td>\n",
       "      <td>0.000000</td>\n",
       "      <td>2.000000</td>\n",
       "      <td>20.125000</td>\n",
       "      <td>0.000000</td>\n",
       "      <td>0.000000</td>\n",
       "      <td>7.910400</td>\n",
       "    </tr>\n",
       "    <tr>\n",
       "      <th>50%</th>\n",
       "      <td>446.000000</td>\n",
       "      <td>0.000000</td>\n",
       "      <td>3.000000</td>\n",
       "      <td>28.000000</td>\n",
       "      <td>0.000000</td>\n",
       "      <td>0.000000</td>\n",
       "      <td>14.454200</td>\n",
       "    </tr>\n",
       "    <tr>\n",
       "      <th>75%</th>\n",
       "      <td>668.500000</td>\n",
       "      <td>1.000000</td>\n",
       "      <td>3.000000</td>\n",
       "      <td>38.000000</td>\n",
       "      <td>1.000000</td>\n",
       "      <td>0.000000</td>\n",
       "      <td>31.000000</td>\n",
       "    </tr>\n",
       "    <tr>\n",
       "      <th>max</th>\n",
       "      <td>891.000000</td>\n",
       "      <td>1.000000</td>\n",
       "      <td>3.000000</td>\n",
       "      <td>80.000000</td>\n",
       "      <td>8.000000</td>\n",
       "      <td>6.000000</td>\n",
       "      <td>512.329200</td>\n",
       "    </tr>\n",
       "  </tbody>\n",
       "</table>\n",
       "</div>"
      ],
      "text/plain": [
       "       PassengerId    Survived      Pclass         Age       SibSp  \\\n",
       "count   891.000000  891.000000  891.000000  714.000000  891.000000   \n",
       "mean    446.000000    0.383838    2.308642   29.699118    0.523008   \n",
       "std     257.353842    0.486592    0.836071   14.526497    1.102743   \n",
       "min       1.000000    0.000000    1.000000    0.420000    0.000000   \n",
       "25%     223.500000    0.000000    2.000000   20.125000    0.000000   \n",
       "50%     446.000000    0.000000    3.000000   28.000000    0.000000   \n",
       "75%     668.500000    1.000000    3.000000   38.000000    1.000000   \n",
       "max     891.000000    1.000000    3.000000   80.000000    8.000000   \n",
       "\n",
       "            Parch        Fare  \n",
       "count  891.000000  891.000000  \n",
       "mean     0.381594   32.204208  \n",
       "std      0.806057   49.693429  \n",
       "min      0.000000    0.000000  \n",
       "25%      0.000000    7.910400  \n",
       "50%      0.000000   14.454200  \n",
       "75%      0.000000   31.000000  \n",
       "max      6.000000  512.329200  "
      ]
     },
     "execution_count": 7,
     "metadata": {},
     "output_type": "execute_result"
    }
   ],
   "source": [
    "df_train.describe()"
   ]
  },
  {
   "cell_type": "code",
   "execution_count": 8,
   "id": "e1e6b0ba",
   "metadata": {},
   "outputs": [
    {
     "data": {
      "text/plain": [
       "Index(['PassengerId', 'Survived', 'Pclass', 'Name', 'Sex', 'Age', 'SibSp',\n",
       "       'Parch', 'Ticket', 'Fare', 'Cabin', 'Embarked'],\n",
       "      dtype='object')"
      ]
     },
     "execution_count": 8,
     "metadata": {},
     "output_type": "execute_result"
    }
   ],
   "source": [
    "df_train.columns"
   ]
  },
  {
   "cell_type": "code",
   "execution_count": 9,
   "id": "2aecc30b",
   "metadata": {
    "vscode": {
     "languageId": "javascript"
    }
   },
   "outputs": [
    {
     "data": {
      "application/vnd.microsoft.datawrangler.viewer.v0+json": {
       "columns": [
        {
         "name": "index",
         "rawType": "object",
         "type": "string"
        },
        {
         "name": "0",
         "rawType": "object",
         "type": "string"
        }
       ],
       "ref": "799f971b-8ae9-4edc-997b-05ecd34718d3",
       "rows": [
        [
         "PassengerId",
         "ID пассажира"
        ],
        [
         "Survived",
         "Выжил (1) или нет (0)"
        ],
        [
         "Pclass",
         "1-й = Верхний, 2-й = Средний, 3-й = Нижний"
        ],
        [
         "Name",
         "Имя пассажира"
        ],
        [
         "Sex",
         "Пол пассажира"
        ],
        [
         "Age",
         "Возраст пассажира в годах"
        ],
        [
         "SibSp",
         "Количество братьев/сестер и супругов на борту"
        ],
        [
         "Parch",
         "Количество родителей и детей на борту"
        ],
        [
         "Ticket",
         "Номер билета"
        ],
        [
         "Fare",
         "Пассажирский тариф"
        ],
        [
         "Cabin",
         "Номер каюты"
        ],
        [
         "Embarked",
         "Порт посадки (C = Cherbourg, Q = Queenstown, S = Southampton)"
        ]
       ],
       "shape": {
        "columns": 1,
        "rows": 12
       }
      },
      "text/html": [
       "<div>\n",
       "<style scoped>\n",
       "    .dataframe tbody tr th:only-of-type {\n",
       "        vertical-align: middle;\n",
       "    }\n",
       "\n",
       "    .dataframe tbody tr th {\n",
       "        vertical-align: top;\n",
       "    }\n",
       "\n",
       "    .dataframe thead th {\n",
       "        text-align: right;\n",
       "    }\n",
       "</style>\n",
       "<table border=\"1\" class=\"dataframe\">\n",
       "  <thead>\n",
       "    <tr style=\"text-align: right;\">\n",
       "      <th></th>\n",
       "      <th>0</th>\n",
       "    </tr>\n",
       "  </thead>\n",
       "  <tbody>\n",
       "    <tr>\n",
       "      <th>PassengerId</th>\n",
       "      <td>ID пассажира</td>\n",
       "    </tr>\n",
       "    <tr>\n",
       "      <th>Survived</th>\n",
       "      <td>Выжил (1) или нет (0)</td>\n",
       "    </tr>\n",
       "    <tr>\n",
       "      <th>Pclass</th>\n",
       "      <td>1-й = Верхний, 2-й = Средний, 3-й = Нижний</td>\n",
       "    </tr>\n",
       "    <tr>\n",
       "      <th>Name</th>\n",
       "      <td>Имя пассажира</td>\n",
       "    </tr>\n",
       "    <tr>\n",
       "      <th>Sex</th>\n",
       "      <td>Пол пассажира</td>\n",
       "    </tr>\n",
       "    <tr>\n",
       "      <th>Age</th>\n",
       "      <td>Возраст пассажира в годах</td>\n",
       "    </tr>\n",
       "    <tr>\n",
       "      <th>SibSp</th>\n",
       "      <td>Количество братьев/сестер и супругов на борту</td>\n",
       "    </tr>\n",
       "    <tr>\n",
       "      <th>Parch</th>\n",
       "      <td>Количество родителей и детей на борту</td>\n",
       "    </tr>\n",
       "    <tr>\n",
       "      <th>Ticket</th>\n",
       "      <td>Номер билета</td>\n",
       "    </tr>\n",
       "    <tr>\n",
       "      <th>Fare</th>\n",
       "      <td>Пассажирский тариф</td>\n",
       "    </tr>\n",
       "    <tr>\n",
       "      <th>Cabin</th>\n",
       "      <td>Номер каюты</td>\n",
       "    </tr>\n",
       "    <tr>\n",
       "      <th>Embarked</th>\n",
       "      <td>Порт посадки (C = Cherbourg, Q = Queenstown, S...</td>\n",
       "    </tr>\n",
       "  </tbody>\n",
       "</table>\n",
       "</div>"
      ],
      "text/plain": [
       "                                                             0\n",
       "PassengerId                                       ID пассажира\n",
       "Survived                                 Выжил (1) или нет (0)\n",
       "Pclass              1-й = Верхний, 2-й = Средний, 3-й = Нижний\n",
       "Name                                             Имя пассажира\n",
       "Sex                                              Пол пассажира\n",
       "Age                                  Возраст пассажира в годах\n",
       "SibSp            Количество братьев/сестер и супругов на борту\n",
       "Parch                    Количество родителей и детей на борту\n",
       "Ticket                                            Номер билета\n",
       "Fare                                        Пассажирский тариф\n",
       "Cabin                                              Номер каюты\n",
       "Embarked     Порт посадки (C = Cherbourg, Q = Queenstown, S..."
      ]
     },
     "execution_count": 9,
     "metadata": {},
     "output_type": "execute_result"
    }
   ],
   "source": [
    "descript = pd.DataFrame({\n",
    "    'PassengerId': ['ID пассажира'],\n",
    "    'Survived': ['Выжил (1) или нет (0)'],\n",
    "    'Pclass': ['1-й = Верхний, 2-й = Средний, 3-й = Нижний'],\n",
    "    'Name': ['Имя пассажира'],\n",
    "    'Sex': ['Пол пассажира'],\n",
    "    'Age': ['Возраст пассажира в годах'],\n",
    "    'SibSp': ['Количество братьев/сестер и супругов на борту'],\n",
    "    'Parch': ['Количество родителей и детей на борту'],\n",
    "    'Ticket': ['Номер билета'],\n",
    "    'Fare': ['Пассажирский тариф'],\n",
    "    'Cabin': ['Номер каюты'],\n",
    "    'Embarked': ['Порт посадки (C = Cherbourg, Q = Queenstown, S = Southampton)']\n",
    "})\n",
    "\n",
    "descript.T"
   ]
  },
  {
   "cell_type": "code",
   "execution_count": 10,
   "id": "3f3c5298",
   "metadata": {},
   "outputs": [
    {
     "data": {
      "text/plain": [
       "Text(0.5, 1.0, 'Распределение выживших')"
      ]
     },
     "execution_count": 10,
     "metadata": {},
     "output_type": "execute_result"
    },
    {
     "data": {
      "image/png": "[encoded data removed]",
      "text/plain": [
       "<Figure size 1000x600 with 1 Axes>"
      ]
     },
     "metadata": {},
     "output_type": "display_data"
    }
   ],
   "source": [
    "survived_counts = df_train['Survived'].value_counts()\n",
    "survived_counts.index = ['Утонул', 'Выжил']\n",
    "\n",
    "\n",
    "plt.figure(figsize=(10,6))\n",
    "survived_counts.plot.pie(autopct='%1.1f%%', startangle=90, colors=['#7B4BD0', \"#4BD0A0\"])\n",
    "plt.title('Распределение выживших')"
   ]
  },
  {
   "cell_type": "code",
   "execution_count": 11,
   "id": "38449b99",
   "metadata": {},
   "outputs": [
    {
     "data": {
      "image/png": "[encoded data removed]",
      "text/plain": [
       "<Figure size 2000x2000 with 8 Axes>"
      ]
     },
     "metadata": {},
     "output_type": "display_data"
    }
   ],
   "source": [
    "fig, axes = plt.subplots(4, 2, figsize=(20, 20))  # 4 строки, 2 столбца\n",
    "\n",
    "# 1. Классы пассажиров\n",
    "df_train['Pclass'].value_counts().sort_index().plot.bar(\n",
    "    color='#4BD0A0',\n",
    "    ax=axes[0, 0]\n",
    ")\n",
    "axes[0, 0].set_title('Распределение классов пассажиров')\n",
    "axes[0, 0].set_xlabel('Класс')\n",
    "axes[0, 0].set_ylabel('Количество')\n",
    "\n",
    "# 2. Пол пассажиров\n",
    "df_train['Sex'].value_counts().sort_index().plot.bar(\n",
    "    color='#4BD0A0',\n",
    "    ax=axes[0, 1]\n",
    ")\n",
    "axes[0, 1].set_title('Распределение полов пассажиров')\n",
    "axes[0, 1].set_xlabel('Пол')\n",
    "axes[0, 1].set_ylabel('Количество')\n",
    "\n",
    "# 3. Возраст пассажиров\n",
    "df_train['Age'].plot.hist(\n",
    "    bins=30,\n",
    "    color='#4BD0A0',\n",
    "    ax=axes[1, 0]\n",
    ")\n",
    "axes[1, 0].set_title('Распределение возраста пассажиров')\n",
    "axes[1, 0].set_xlabel('Возраст')\n",
    "axes[1, 0].set_ylabel('Количество')\n",
    "\n",
    "# 4. Кол-во братьев/сестер и супругов\n",
    "df_train['SibSp'].plot.hist(\n",
    "    bins=30,\n",
    "    color='#4BD0A0',\n",
    "    ax=axes[1, 1]\n",
    ")\n",
    "axes[1, 1].set_title('Распределение братьев/сестер и супругов')\n",
    "axes[1, 1].set_xlabel('Количество')\n",
    "axes[1, 1].set_ylabel('Количество')\n",
    "\n",
    "# 5. Кол-во родителей и детей\n",
    "df_train['Parch'].plot.hist(\n",
    "    bins=30,\n",
    "    color='#4BD0A0',\n",
    "    ax=axes[2, 0]\n",
    ")\n",
    "axes[2, 0].set_title('Распределение родителей и детей')\n",
    "axes[2, 0].set_xlabel('Количество')\n",
    "axes[2, 0].set_ylabel('Количество')\n",
    "\n",
    "# 6. Тарифы\n",
    "df_train['Fare'].plot.hist(\n",
    "    bins=30,\n",
    "    color='#4BD0A0',\n",
    "    ax=axes[2, 1]\n",
    ")\n",
    "axes[2, 1].set_title('Распределение тарифов')\n",
    "axes[2, 1].set_xlabel('Тариф')\n",
    "axes[2, 1].set_ylabel('Количество')\n",
    "\n",
    "# # 7. Кабина\n",
    "# df_train['Cabin'].value_counts().sort_index().plot.bar(\n",
    "#     color='#4BD0A0',\n",
    "#     ax=axes[3, 0]\n",
    "# )\n",
    "# axes[3, 0].set_title('Распределение кают')\n",
    "# axes[3, 0].set_xlabel('Каюта')\n",
    "# axes[3, 0].set_ylabel('Количество')\n",
    "\n",
    "# 8. Порт посадки\n",
    "df_train['Embarked'].value_counts().sort_index().plot.bar(\n",
    "    color='#4BD0A0',\n",
    "    ax=axes[3, 1]\n",
    ")\n",
    "axes[3, 1].set_title('Распределение портов посадки')\n",
    "axes[3, 1].set_xlabel('Порт')\n",
    "axes[3, 1].set_ylabel('Количество')\n",
    "\n",
    "plt.tight_layout()\n",
    "plt.show()"
   ]
  },
  {
   "cell_type": "code",
   "execution_count": 12,
   "id": "e108b03a",
   "metadata": {},
   "outputs": [
    {
     "data": {
      "application/vnd.microsoft.datawrangler.viewer.v0+json": {
       "columns": [
        {
         "name": "index",
         "rawType": "object",
         "type": "string"
        },
        {
         "name": "0",
         "rawType": "object",
         "type": "string"
        }
       ],
       "ref": "a3554f6e-7d5f-4a46-a583-cd25b922a1fe",
       "rows": [
        [
         "PassengerId",
         "ID пассажира"
        ],
        [
         "Survived",
         "Выжил (1) или нет (0)"
        ],
        [
         "Pclass",
         "1-й = Верхний, 2-й = Средний, 3-й = Нижний"
        ],
        [
         "Name",
         "Имя пассажира"
        ],
        [
         "Sex",
         "Пол пассажира"
        ],
        [
         "Age",
         "Возраст пассажира в годах"
        ],
        [
         "SibSp",
         "Количество братьев/сестер и супругов на борту"
        ],
        [
         "Parch",
         "Количество родителей и детей на борту"
        ],
        [
         "Ticket",
         "Номер билета"
        ],
        [
         "Fare",
         "Пассажирский тариф"
        ],
        [
         "Cabin",
         "Номер каюты"
        ],
        [
         "Embarked",
         "Порт посадки (C = Cherbourg, Q = Queenstown, S = Southampton)"
        ]
       ],
       "shape": {
        "columns": 1,
        "rows": 12
       }
      },
      "text/html": [
       "<div>\n",
       "<style scoped>\n",
       "    .dataframe tbody tr th:only-of-type {\n",
       "        vertical-align: middle;\n",
       "    }\n",
       "\n",
       "    .dataframe tbody tr th {\n",
       "        vertical-align: top;\n",
       "    }\n",
       "\n",
       "    .dataframe thead th {\n",
       "        text-align: right;\n",
       "    }\n",
       "</style>\n",
       "<table border=\"1\" class=\"dataframe\">\n",
       "  <thead>\n",
       "    <tr style=\"text-align: right;\">\n",
       "      <th></th>\n",
       "      <th>0</th>\n",
       "    </tr>\n",
       "  </thead>\n",
       "  <tbody>\n",
       "    <tr>\n",
       "      <th>PassengerId</th>\n",
       "      <td>ID пассажира</td>\n",
       "    </tr>\n",
       "    <tr>\n",
       "      <th>Survived</th>\n",
       "      <td>Выжил (1) или нет (0)</td>\n",
       "    </tr>\n",
       "    <tr>\n",
       "      <th>Pclass</th>\n",
       "      <td>1-й = Верхний, 2-й = Средний, 3-й = Нижний</td>\n",
       "    </tr>\n",
       "    <tr>\n",
       "      <th>Name</th>\n",
       "      <td>Имя пассажира</td>\n",
       "    </tr>\n",
       "    <tr>\n",
       "      <th>Sex</th>\n",
       "      <td>Пол пассажира</td>\n",
       "    </tr>\n",
       "    <tr>\n",
       "      <th>Age</th>\n",
       "      <td>Возраст пассажира в годах</td>\n",
       "    </tr>\n",
       "    <tr>\n",
       "      <th>SibSp</th>\n",
       "      <td>Количество братьев/сестер и супругов на борту</td>\n",
       "    </tr>\n",
       "    <tr>\n",
       "      <th>Parch</th>\n",
       "      <td>Количество родителей и детей на борту</td>\n",
       "    </tr>\n",
       "    <tr>\n",
       "      <th>Ticket</th>\n",
       "      <td>Номер билета</td>\n",
       "    </tr>\n",
       "    <tr>\n",
       "      <th>Fare</th>\n",
       "      <td>Пассажирский тариф</td>\n",
       "    </tr>\n",
       "    <tr>\n",
       "      <th>Cabin</th>\n",
       "      <td>Номер каюты</td>\n",
       "    </tr>\n",
       "    <tr>\n",
       "      <th>Embarked</th>\n",
       "      <td>Порт посадки (C = Cherbourg, Q = Queenstown, S...</td>\n",
       "    </tr>\n",
       "  </tbody>\n",
       "</table>\n",
       "</div>"
      ],
      "text/plain": [
       "                                                             0\n",
       "PassengerId                                       ID пассажира\n",
       "Survived                                 Выжил (1) или нет (0)\n",
       "Pclass              1-й = Верхний, 2-й = Средний, 3-й = Нижний\n",
       "Name                                             Имя пассажира\n",
       "Sex                                              Пол пассажира\n",
       "Age                                  Возраст пассажира в годах\n",
       "SibSp            Количество братьев/сестер и супругов на борту\n",
       "Parch                    Количество родителей и детей на борту\n",
       "Ticket                                            Номер билета\n",
       "Fare                                        Пассажирский тариф\n",
       "Cabin                                              Номер каюты\n",
       "Embarked     Порт посадки (C = Cherbourg, Q = Queenstown, S..."
      ]
     },
     "execution_count": 12,
     "metadata": {},
     "output_type": "execute_result"
    }
   ],
   "source": [
    "descript.T"
   ]
  },
  {
   "cell_type": "code",
   "execution_count": 13,
   "id": "ef69c97f",
   "metadata": {},
   "outputs": [
    {
     "data": {
      "text/plain": [
       "np.float64(77.10437710437711)"
      ]
     },
     "execution_count": 13,
     "metadata": {},
     "output_type": "execute_result"
    }
   ],
   "source": [
    "df_train['Cabin'].isnull().mean()*100"
   ]
  },
  {
   "cell_type": "code",
   "execution_count": 14,
   "id": "5731a31c",
   "metadata": {},
   "outputs": [],
   "source": [
    "df_train_for_lo = df_train[['PassengerId', \n",
    "                            'Survived', \n",
    "                            'Pclass', \n",
    "                            # 'Name', \n",
    "                            'Sex', \n",
    "                            'Age', \n",
    "                            'SibSp',\n",
    "                            'Parch', \n",
    "                            # 'Ticket', \n",
    "                            'Fare', \n",
    "                            # 'Cabin', \n",
    "                            'Embarked']]"
   ]
  },
  {
   "cell_type": "code",
   "execution_count": 15,
   "id": "7088a698",
   "metadata": {},
   "outputs": [
    {
     "data": {
      "application/vnd.microsoft.datawrangler.viewer.v0+json": {
       "columns": [
        {
         "name": "index",
         "rawType": "int64",
         "type": "integer"
        },
        {
         "name": "PassengerId",
         "rawType": "int64",
         "type": "integer"
        },
        {
         "name": "Survived",
         "rawType": "int64",
         "type": "integer"
        },
        {
         "name": "Pclass",
         "rawType": "int64",
         "type": "integer"
        },
        {
         "name": "Sex",
         "rawType": "object",
         "type": "string"
        },
        {
         "name": "Age",
         "rawType": "float64",
         "type": "float"
        },
        {
         "name": "SibSp",
         "rawType": "int64",
         "type": "integer"
        },
        {
         "name": "Parch",
         "rawType": "int64",
         "type": "integer"
        },
        {
         "name": "Fare",
         "rawType": "float64",
         "type": "float"
        },
        {
         "name": "Embarked",
         "rawType": "object",
         "type": "unknown"
        }
       ],
       "ref": "efab6949-e00f-43d5-b65c-35616d73a38d",
       "rows": [
        [
         "0",
         "1",
         "0",
         "3",
         "male",
         "22.0",
         "1",
         "0",
         "7.25",
         "S"
        ],
        [
         "1",
         "2",
         "1",
         "1",
         "female",
         "38.0",
         "1",
         "0",
         "71.2833",
         "C"
        ],
        [
         "2",
         "3",
         "1",
         "3",
         "female",
         "26.0",
         "0",
         "0",
         "7.925",
         "S"
        ],
        [
         "3",
         "4",
         "1",
         "1",
         "female",
         "35.0",
         "1",
         "0",
         "53.1",
         "S"
        ],
        [
         "4",
         "5",
         "0",
         "3",
         "male",
         "35.0",
         "0",
         "0",
         "8.05",
         "S"
        ],
        [
         "5",
         "6",
         "0",
         "3",
         "male",
         null,
         "0",
         "0",
         "8.4583",
         "Q"
        ],
        [
         "6",
         "7",
         "0",
         "1",
         "male",
         "54.0",
         "0",
         "0",
         "51.8625",
         "S"
        ],
        [
         "7",
         "8",
         "0",
         "3",
         "male",
         "2.0",
         "3",
         "1",
         "21.075",
         "S"
        ],
        [
         "8",
         "9",
         "1",
         "3",
         "female",
         "27.0",
         "0",
         "2",
         "11.1333",
         "S"
        ],
        [
         "9",
         "10",
         "1",
         "2",
         "female",
         "14.0",
         "1",
         "0",
         "30.0708",
         "C"
        ],
        [
         "10",
         "11",
         "1",
         "3",
         "female",
         "4.0",
         "1",
         "1",
         "16.7",
         "S"
        ],
        [
         "11",
         "12",
         "1",
         "1",
         "female",
         "58.0",
         "0",
         "0",
         "26.55",
         "S"
        ],
        [
         "12",
         "13",
         "0",
         "3",
         "male",
         "20.0",
         "0",
         "0",
         "8.05",
         "S"
        ],
        [
         "13",
         "14",
         "0",
         "3",
         "male",
         "39.0",
         "1",
         "5",
         "31.275",
         "S"
        ],
        [
         "14",
         "15",
         "0",
         "3",
         "female",
         "14.0",
         "0",
         "0",
         "7.8542",
         "S"
        ],
        [
         "15",
         "16",
         "1",
         "2",
         "female",
         "55.0",
         "0",
         "0",
         "16.0",
         "S"
        ],
        [
         "16",
         "17",
         "0",
         "3",
         "male",
         "2.0",
         "4",
         "1",
         "29.125",
         "Q"
        ],
        [
         "17",
         "18",
         "1",
         "2",
         "male",
         null,
         "0",
         "0",
         "13.0",
         "S"
        ],
        [
         "18",
         "19",
         "0",
         "3",
         "female",
         "31.0",
         "1",
         "0",
         "18.0",
         "S"
        ],
        [
         "19",
         "20",
         "1",
         "3",
         "female",
         null,
         "0",
         "0",
         "7.225",
         "C"
        ],
        [
         "20",
         "21",
         "0",
         "2",
         "male",
         "35.0",
         "0",
         "0",
         "26.0",
         "S"
        ],
        [
         "21",
         "22",
         "1",
         "2",
         "male",
         "34.0",
         "0",
         "0",
         "13.0",
         "S"
        ],
        [
         "22",
         "23",
         "1",
         "3",
         "female",
         "15.0",
         "0",
         "0",
         "8.0292",
         "Q"
        ],
        [
         "23",
         "24",
         "1",
         "1",
         "male",
         "28.0",
         "0",
         "0",
         "35.5",
         "S"
        ],
        [
         "24",
         "25",
         "0",
         "3",
         "female",
         "8.0",
         "3",
         "1",
         "21.075",
         "S"
        ],
        [
         "25",
         "26",
         "1",
         "3",
         "female",
         "38.0",
         "1",
         "5",
         "31.3875",
         "S"
        ],
        [
         "26",
         "27",
         "0",
         "3",
         "male",
         null,
         "0",
         "0",
         "7.225",
         "C"
        ],
        [
         "27",
         "28",
         "0",
         "1",
         "male",
         "19.0",
         "3",
         "2",
         "263.0",
         "S"
        ],
        [
         "28",
         "29",
         "1",
         "3",
         "female",
         null,
         "0",
         "0",
         "7.8792",
         "Q"
        ],
        [
         "29",
         "30",
         "0",
         "3",
         "male",
         null,
         "0",
         "0",
         "7.8958",
         "S"
        ],
        [
         "30",
         "31",
         "0",
         "1",
         "male",
         "40.0",
         "0",
         "0",
         "27.7208",
         "C"
        ],
        [
         "31",
         "32",
         "1",
         "1",
         "female",
         null,
         "1",
         "0",
         "146.5208",
         "C"
        ],
        [
         "32",
         "33",
         "1",
         "3",
         "female",
         null,
         "0",
         "0",
         "7.75",
         "Q"
        ],
        [
         "33",
         "34",
         "0",
         "2",
         "male",
         "66.0",
         "0",
         "0",
         "10.5",
         "S"
        ],
        [
         "34",
         "35",
         "0",
         "1",
         "male",
         "28.0",
         "1",
         "0",
         "82.1708",
         "C"
        ],
        [
         "35",
         "36",
         "0",
         "1",
         "male",
         "42.0",
         "1",
         "0",
         "52.0",
         "S"
        ],
        [
         "36",
         "37",
         "1",
         "3",
         "male",
         null,
         "0",
         "0",
         "7.2292",
         "C"
        ],
        [
         "37",
         "38",
         "0",
         "3",
         "male",
         "21.0",
         "0",
         "0",
         "8.05",
         "S"
        ],
        [
         "38",
         "39",
         "0",
         "3",
         "female",
         "18.0",
         "2",
         "0",
         "18.0",
         "S"
        ],
        [
         "39",
         "40",
         "1",
         "3",
         "female",
         "14.0",
         "1",
         "0",
         "11.2417",
         "C"
        ],
        [
         "40",
         "41",
         "0",
         "3",
         "female",
         "40.0",
         "1",
         "0",
         "9.475",
         "S"
        ],
        [
         "41",
         "42",
         "0",
         "2",
         "female",
         "27.0",
         "1",
         "0",
         "21.0",
         "S"
        ],
        [
         "42",
         "43",
         "0",
         "3",
         "male",
         null,
         "0",
         "0",
         "7.8958",
         "C"
        ],
        [
         "43",
         "44",
         "1",
         "2",
         "female",
         "3.0",
         "1",
         "2",
         "41.5792",
         "C"
        ],
        [
         "44",
         "45",
         "1",
         "3",
         "female",
         "19.0",
         "0",
         "0",
         "7.8792",
         "Q"
        ],
        [
         "45",
         "46",
         "0",
         "3",
         "male",
         null,
         "0",
         "0",
         "8.05",
         "S"
        ],
        [
         "46",
         "47",
         "0",
         "3",
         "male",
         null,
         "1",
         "0",
         "15.5",
         "Q"
        ],
        [
         "47",
         "48",
         "1",
         "3",
         "female",
         null,
         "0",
         "0",
         "7.75",
         "Q"
        ],
        [
         "48",
         "49",
         "0",
         "3",
         "male",
         null,
         "2",
         "0",
         "21.6792",
         "C"
        ],
        [
         "49",
         "50",
         "0",
         "3",
         "female",
         "18.0",
         "1",
         "0",
         "17.8",
         "S"
        ]
       ],
       "shape": {
        "columns": 9,
        "rows": 891
       }
      },
      "text/html": [
       "<div>\n",
       "<style scoped>\n",
       "    .dataframe tbody tr th:only-of-type {\n",
       "        vertical-align: middle;\n",
       "    }\n",
       "\n",
       "    .dataframe tbody tr th {\n",
       "        vertical-align: top;\n",
       "    }\n",
       "\n",
       "    .dataframe thead th {\n",
       "        text-align: right;\n",
       "    }\n",
       "</style>\n",
       "<table border=\"1\" class=\"dataframe\">\n",
       "  <thead>\n",
       "    <tr style=\"text-align: right;\">\n",
       "      <th></th>\n",
       "      <th>PassengerId</th>\n",
       "      <th>Survived</th>\n",
       "      <th>Pclass</th>\n",
       "      <th>Sex</th>\n",
       "      <th>Age</th>\n",
       "      <th>SibSp</th>\n",
       "      <th>Parch</th>\n",
       "      <th>Fare</th>\n",
       "      <th>Embarked</th>\n",
       "    </tr>\n",
       "  </thead>\n",
       "  <tbody>\n",
       "    <tr>\n",
       "      <th>0</th>\n",
       "      <td>1</td>\n",
       "      <td>0</td>\n",
       "      <td>3</td>\n",
       "      <td>male</td>\n",
       "      <td>22.0</td>\n",
       "      <td>1</td>\n",
       "      <td>0</td>\n",
       "      <td>7.2500</td>\n",
       "      <td>S</td>\n",
       "    </tr>\n",
       "    <tr>\n",
       "      <th>1</th>\n",
       "      <td>2</td>\n",
       "      <td>1</td>\n",
       "      <td>1</td>\n",
       "      <td>female</td>\n",
       "      <td>38.0</td>\n",
       "      <td>1</td>\n",
       "      <td>0</td>\n",
       "      <td>71.2833</td>\n",
       "      <td>C</td>\n",
       "    </tr>\n",
       "    <tr>\n",
       "      <th>2</th>\n",
       "      <td>3</td>\n",
       "      <td>1</td>\n",
       "      <td>3</td>\n",
       "      <td>female</td>\n",
       "      <td>26.0</td>\n",
       "      <td>0</td>\n",
       "      <td>0</td>\n",
       "      <td>7.9250</td>\n",
       "      <td>S</td>\n",
       "    </tr>\n",
       "    <tr>\n",
       "      <th>3</th>\n",
       "      <td>4</td>\n",
       "      <td>1</td>\n",
       "      <td>1</td>\n",
       "      <td>female</td>\n",
       "      <td>35.0</td>\n",
       "      <td>1</td>\n",
       "      <td>0</td>\n",
       "      <td>53.1000</td>\n",
       "      <td>S</td>\n",
       "    </tr>\n",
       "    <tr>\n",
       "      <th>4</th>\n",
       "      <td>5</td>\n",
       "      <td>0</td>\n",
       "      <td>3</td>\n",
       "      <td>male</td>\n",
       "      <td>35.0</td>\n",
       "      <td>0</td>\n",
       "      <td>0</td>\n",
       "      <td>8.0500</td>\n",
       "      <td>S</td>\n",
       "    </tr>\n",
       "    <tr>\n",
       "      <th>...</th>\n",
       "      <td>...</td>\n",
       "      <td>...</td>\n",
       "      <td>...</td>\n",
       "      <td>...</td>\n",
       "      <td>...</td>\n",
       "      <td>...</td>\n",
       "      <td>...</td>\n",
       "      <td>...</td>\n",
       "      <td>...</td>\n",
       "    </tr>\n",
       "    <tr>\n",
       "      <th>886</th>\n",
       "      <td>887</td>\n",
       "      <td>0</td>\n",
       "      <td>2</td>\n",
       "      <td>male</td>\n",
       "      <td>27.0</td>\n",
       "      <td>0</td>\n",
       "      <td>0</td>\n",
       "      <td>13.0000</td>\n",
       "      <td>S</td>\n",
       "    </tr>\n",
       "    <tr>\n",
       "      <th>887</th>\n",
       "      <td>888</td>\n",
       "      <td>1</td>\n",
       "      <td>1</td>\n",
       "      <td>female</td>\n",
       "      <td>19.0</td>\n",
       "      <td>0</td>\n",
       "      <td>0</td>\n",
       "      <td>30.0000</td>\n",
       "      <td>S</td>\n",
       "    </tr>\n",
       "    <tr>\n",
       "      <th>888</th>\n",
       "      <td>889</td>\n",
       "      <td>0</td>\n",
       "      <td>3</td>\n",
       "      <td>female</td>\n",
       "      <td>NaN</td>\n",
       "      <td>1</td>\n",
       "      <td>2</td>\n",
       "      <td>23.4500</td>\n",
       "      <td>S</td>\n",
       "    </tr>\n",
       "    <tr>\n",
       "      <th>889</th>\n",
       "      <td>890</td>\n",
       "      <td>1</td>\n",
       "      <td>1</td>\n",
       "      <td>male</td>\n",
       "      <td>26.0</td>\n",
       "      <td>0</td>\n",
       "      <td>0</td>\n",
       "      <td>30.0000</td>\n",
       "      <td>C</td>\n",
       "    </tr>\n",
       "    <tr>\n",
       "      <th>890</th>\n",
       "      <td>891</td>\n",
       "      <td>0</td>\n",
       "      <td>3</td>\n",
       "      <td>male</td>\n",
       "      <td>32.0</td>\n",
       "      <td>0</td>\n",
       "      <td>0</td>\n",
       "      <td>7.7500</td>\n",
       "      <td>Q</td>\n",
       "    </tr>\n",
       "  </tbody>\n",
       "</table>\n",
       "<p>891 rows × 9 columns</p>\n",
       "</div>"
      ],
      "text/plain": [
       "     PassengerId  Survived  Pclass     Sex   Age  SibSp  Parch     Fare  \\\n",
       "0              1         0       3    male  22.0      1      0   7.2500   \n",
       "1              2         1       1  female  38.0      1      0  71.2833   \n",
       "2              3         1       3  female  26.0      0      0   7.9250   \n",
       "3              4         1       1  female  35.0      1      0  53.1000   \n",
       "4              5         0       3    male  35.0      0      0   8.0500   \n",
       "..           ...       ...     ...     ...   ...    ...    ...      ...   \n",
       "886          887         0       2    male  27.0      0      0  13.0000   \n",
       "887          888         1       1  female  19.0      0      0  30.0000   \n",
       "888          889         0       3  female   NaN      1      2  23.4500   \n",
       "889          890         1       1    male  26.0      0      0  30.0000   \n",
       "890          891         0       3    male  32.0      0      0   7.7500   \n",
       "\n",
       "    Embarked  \n",
       "0          S  \n",
       "1          C  \n",
       "2          S  \n",
       "3          S  \n",
       "4          S  \n",
       "..       ...  \n",
       "886        S  \n",
       "887        S  \n",
       "888        S  \n",
       "889        C  \n",
       "890        Q  \n",
       "\n",
       "[891 rows x 9 columns]"
      ]
     },
     "metadata": {},
     "output_type": "display_data"
    }
   ],
   "source": [
    "display(df_train_for_lo)"
   ]
  },
  {
   "cell_type": "code",
   "execution_count": 16,
   "id": "a7d3fcd6",
   "metadata": {},
   "outputs": [
    {
     "data": {
      "text/plain": [
       "['PassengerId',\n",
       " 'Survived',\n",
       " 'Pclass',\n",
       " 'Sex',\n",
       " 'Age',\n",
       " 'SibSp',\n",
       " 'Parch',\n",
       " 'Fare',\n",
       " 'Embarked']"
      ]
     },
     "execution_count": 16,
     "metadata": {},
     "output_type": "execute_result"
    }
   ],
   "source": [
    "df_train_for_lo.columns.tolist()"
   ]
  },
  {
   "cell_type": "code",
   "execution_count": 17,
   "id": "da8fe11b",
   "metadata": {},
   "outputs": [],
   "source": [
    "df_train_for_lo = df_train_for_lo[df_train_for_lo['Embarked'].notnull()]"
   ]
  },
  {
   "cell_type": "code",
   "execution_count": 18,
   "id": "dd7e6943",
   "metadata": {},
   "outputs": [
    {
     "data": {
      "application/vnd.microsoft.datawrangler.viewer.v0+json": {
       "columns": [
        {
         "name": "index",
         "rawType": "object",
         "type": "string"
        },
        {
         "name": "0",
         "rawType": "object",
         "type": "string"
        }
       ],
       "ref": "4b2c50b4-c4d2-48bc-818b-b283dae6078e",
       "rows": [
        [
         "PassengerId",
         "ID пассажира"
        ],
        [
         "Survived",
         "Выжил (1) или нет (0)"
        ],
        [
         "Pclass",
         "1-й = Верхний, 2-й = Средний, 3-й = Нижний"
        ],
        [
         "Name",
         "Имя пассажира"
        ],
        [
         "Sex",
         "Пол пассажира"
        ],
        [
         "Age",
         "Возраст пассажира в годах"
        ],
        [
         "SibSp",
         "Количество братьев/сестер и супругов на борту"
        ],
        [
         "Parch",
         "Количество родителей и детей на борту"
        ],
        [
         "Ticket",
         "Номер билета"
        ],
        [
         "Fare",
         "Пассажирский тариф"
        ],
        [
         "Cabin",
         "Номер каюты"
        ],
        [
         "Embarked",
         "Порт посадки (C = Cherbourg, Q = Queenstown, S = Southampton)"
        ]
       ],
       "shape": {
        "columns": 1,
        "rows": 12
       }
      },
      "text/html": [
       "<div>\n",
       "<style scoped>\n",
       "    .dataframe tbody tr th:only-of-type {\n",
       "        vertical-align: middle;\n",
       "    }\n",
       "\n",
       "    .dataframe tbody tr th {\n",
       "        vertical-align: top;\n",
       "    }\n",
       "\n",
       "    .dataframe thead th {\n",
       "        text-align: right;\n",
       "    }\n",
       "</style>\n",
       "<table border=\"1\" class=\"dataframe\">\n",
       "  <thead>\n",
       "    <tr style=\"text-align: right;\">\n",
       "      <th></th>\n",
       "      <th>0</th>\n",
       "    </tr>\n",
       "  </thead>\n",
       "  <tbody>\n",
       "    <tr>\n",
       "      <th>PassengerId</th>\n",
       "      <td>ID пассажира</td>\n",
       "    </tr>\n",
       "    <tr>\n",
       "      <th>Survived</th>\n",
       "      <td>Выжил (1) или нет (0)</td>\n",
       "    </tr>\n",
       "    <tr>\n",
       "      <th>Pclass</th>\n",
       "      <td>1-й = Верхний, 2-й = Средний, 3-й = Нижний</td>\n",
       "    </tr>\n",
       "    <tr>\n",
       "      <th>Name</th>\n",
       "      <td>Имя пассажира</td>\n",
       "    </tr>\n",
       "    <tr>\n",
       "      <th>Sex</th>\n",
       "      <td>Пол пассажира</td>\n",
       "    </tr>\n",
       "    <tr>\n",
       "      <th>Age</th>\n",
       "      <td>Возраст пассажира в годах</td>\n",
       "    </tr>\n",
       "    <tr>\n",
       "      <th>SibSp</th>\n",
       "      <td>Количество братьев/сестер и супругов на борту</td>\n",
       "    </tr>\n",
       "    <tr>\n",
       "      <th>Parch</th>\n",
       "      <td>Количество родителей и детей на борту</td>\n",
       "    </tr>\n",
       "    <tr>\n",
       "      <th>Ticket</th>\n",
       "      <td>Номер билета</td>\n",
       "    </tr>\n",
       "    <tr>\n",
       "      <th>Fare</th>\n",
       "      <td>Пассажирский тариф</td>\n",
       "    </tr>\n",
       "    <tr>\n",
       "      <th>Cabin</th>\n",
       "      <td>Номер каюты</td>\n",
       "    </tr>\n",
       "    <tr>\n",
       "      <th>Embarked</th>\n",
       "      <td>Порт посадки (C = Cherbourg, Q = Queenstown, S...</td>\n",
       "    </tr>\n",
       "  </tbody>\n",
       "</table>\n",
       "</div>"
      ],
      "text/plain": [
       "                                                             0\n",
       "PassengerId                                       ID пассажира\n",
       "Survived                                 Выжил (1) или нет (0)\n",
       "Pclass              1-й = Верхний, 2-й = Средний, 3-й = Нижний\n",
       "Name                                             Имя пассажира\n",
       "Sex                                              Пол пассажира\n",
       "Age                                  Возраст пассажира в годах\n",
       "SibSp            Количество братьев/сестер и супругов на борту\n",
       "Parch                    Количество родителей и детей на борту\n",
       "Ticket                                            Номер билета\n",
       "Fare                                        Пассажирский тариф\n",
       "Cabin                                              Номер каюты\n",
       "Embarked     Порт посадки (C = Cherbourg, Q = Queenstown, S..."
      ]
     },
     "execution_count": 18,
     "metadata": {},
     "output_type": "execute_result"
    }
   ],
   "source": [
    "descript.T"
   ]
  },
  {
   "cell_type": "code",
   "execution_count": 19,
   "id": "9b250402",
   "metadata": {},
   "outputs": [
    {
     "name": "stderr",
     "output_type": "stream",
     "text": [
      "C:\\Users\\dogot\\AppData\\Local\\Temp\\ipykernel_13260\\3879330988.py:2: SettingWithCopyWarning: \n",
      "A value is trying to be set on a copy of a slice from a DataFrame.\n",
      "Try using .loc[row_indexer,col_indexer] = value instead\n",
      "\n",
      "See the caveats in the documentation: https://pandas.pydata.org/pandas-docs/stable/user_guide/indexing.html#returning-a-view-versus-a-copy\n",
      "  df_train_for_lo['Sex'] = df_train_for_lo['Sex'].map({'male': 0, 'female': 1})\n",
      "C:\\Users\\dogot\\AppData\\Local\\Temp\\ipykernel_13260\\3879330988.py:3: SettingWithCopyWarning: \n",
      "A value is trying to be set on a copy of a slice from a DataFrame.\n",
      "Try using .loc[row_indexer,col_indexer] = value instead\n",
      "\n",
      "See the caveats in the documentation: https://pandas.pydata.org/pandas-docs/stable/user_guide/indexing.html#returning-a-view-versus-a-copy\n",
      "  df_train_for_lo['Embarked'] = df_train_for_lo['Embarked'].map({'S': 0, 'C': 1, 'Q': 2})\n",
      "C:\\Users\\dogot\\AppData\\Local\\Temp\\ipykernel_13260\\3879330988.py:5: FutureWarning: A value is trying to be set on a copy of a DataFrame or Series through chained assignment using an inplace method.\n",
      "The behavior will change in pandas 3.0. This inplace method will never work because the intermediate object on which we are setting values always behaves as a copy.\n",
      "\n",
      "For example, when doing 'df[col].method(value, inplace=True)', try using 'df.method({col: value}, inplace=True)' or df[col] = df[col].method(value) instead, to perform the operation inplace on the original object.\n",
      "\n",
      "\n",
      "  df_train_for_lo['Age'].fillna(df_train_for_lo['Age'].mean(), inplace=True)\n",
      "C:\\Users\\dogot\\AppData\\Local\\Temp\\ipykernel_13260\\3879330988.py:5: SettingWithCopyWarning: \n",
      "A value is trying to be set on a copy of a slice from a DataFrame\n",
      "\n",
      "See the caveats in the documentation: https://pandas.pydata.org/pandas-docs/stable/user_guide/indexing.html#returning-a-view-versus-a-copy\n",
      "  df_train_for_lo['Age'].fillna(df_train_for_lo['Age'].mean(), inplace=True)\n"
     ]
    }
   ],
   "source": [
    "# Преобразование категориальных признаков в числовые Sex и Embarked\n",
    "df_train_for_lo['Sex'] = df_train_for_lo['Sex'].map({'male': 0, 'female': 1})\n",
    "df_train_for_lo['Embarked'] = df_train_for_lo['Embarked'].map({'S': 0, 'C': 1, 'Q': 2}) \n",
    "# Заполнение пропущенных значений в Age средним значением возраста\n",
    "df_train_for_lo['Age'].fillna(df_train_for_lo['Age'].mean(), inplace=True)"
   ]
  },
  {
   "cell_type": "code",
   "execution_count": 20,
   "id": "64c8369c",
   "metadata": {},
   "outputs": [
    {
     "data": {
      "application/vnd.microsoft.datawrangler.viewer.v0+json": {
       "columns": [
        {
         "name": "index",
         "rawType": "int64",
         "type": "integer"
        },
        {
         "name": "PassengerId",
         "rawType": "int64",
         "type": "integer"
        },
        {
         "name": "Survived",
         "rawType": "int64",
         "type": "integer"
        },
        {
         "name": "Pclass",
         "rawType": "int64",
         "type": "integer"
        },
        {
         "name": "Sex",
         "rawType": "int64",
         "type": "integer"
        },
        {
         "name": "Age",
         "rawType": "float64",
         "type": "float"
        },
        {
         "name": "SibSp",
         "rawType": "int64",
         "type": "integer"
        },
        {
         "name": "Parch",
         "rawType": "int64",
         "type": "integer"
        },
        {
         "name": "Fare",
         "rawType": "float64",
         "type": "float"
        },
        {
         "name": "Embarked",
         "rawType": "int64",
         "type": "integer"
        }
       ],
       "ref": "92579711-9ca6-4af6-9875-f0128642d40d",
       "rows": [
        [
         "0",
         "1",
         "0",
         "3",
         "0",
         "22.0",
         "1",
         "0",
         "7.25",
         "0"
        ],
        [
         "1",
         "2",
         "1",
         "1",
         "1",
         "38.0",
         "1",
         "0",
         "71.2833",
         "1"
        ],
        [
         "2",
         "3",
         "1",
         "3",
         "1",
         "26.0",
         "0",
         "0",
         "7.925",
         "0"
        ],
        [
         "3",
         "4",
         "1",
         "1",
         "1",
         "35.0",
         "1",
         "0",
         "53.1",
         "0"
        ],
        [
         "4",
         "5",
         "0",
         "3",
         "0",
         "35.0",
         "0",
         "0",
         "8.05",
         "0"
        ],
        [
         "5",
         "6",
         "0",
         "3",
         "0",
         "29.64209269662921",
         "0",
         "0",
         "8.4583",
         "2"
        ],
        [
         "6",
         "7",
         "0",
         "1",
         "0",
         "54.0",
         "0",
         "0",
         "51.8625",
         "0"
        ],
        [
         "7",
         "8",
         "0",
         "3",
         "0",
         "2.0",
         "3",
         "1",
         "21.075",
         "0"
        ],
        [
         "8",
         "9",
         "1",
         "3",
         "1",
         "27.0",
         "0",
         "2",
         "11.1333",
         "0"
        ],
        [
         "9",
         "10",
         "1",
         "2",
         "1",
         "14.0",
         "1",
         "0",
         "30.0708",
         "1"
        ],
        [
         "10",
         "11",
         "1",
         "3",
         "1",
         "4.0",
         "1",
         "1",
         "16.7",
         "0"
        ],
        [
         "11",
         "12",
         "1",
         "1",
         "1",
         "58.0",
         "0",
         "0",
         "26.55",
         "0"
        ],
        [
         "12",
         "13",
         "0",
         "3",
         "0",
         "20.0",
         "0",
         "0",
         "8.05",
         "0"
        ],
        [
         "13",
         "14",
         "0",
         "3",
         "0",
         "39.0",
         "1",
         "5",
         "31.275",
         "0"
        ],
        [
         "14",
         "15",
         "0",
         "3",
         "1",
         "14.0",
         "0",
         "0",
         "7.8542",
         "0"
        ],
        [
         "15",
         "16",
         "1",
         "2",
         "1",
         "55.0",
         "0",
         "0",
         "16.0",
         "0"
        ],
        [
         "16",
         "17",
         "0",
         "3",
         "0",
         "2.0",
         "4",
         "1",
         "29.125",
         "2"
        ],
        [
         "17",
         "18",
         "1",
         "2",
         "0",
         "29.64209269662921",
         "0",
         "0",
         "13.0",
         "0"
        ],
        [
         "18",
         "19",
         "0",
         "3",
         "1",
         "31.0",
         "1",
         "0",
         "18.0",
         "0"
        ],
        [
         "19",
         "20",
         "1",
         "3",
         "1",
         "29.64209269662921",
         "0",
         "0",
         "7.225",
         "1"
        ],
        [
         "20",
         "21",
         "0",
         "2",
         "0",
         "35.0",
         "0",
         "0",
         "26.0",
         "0"
        ],
        [
         "21",
         "22",
         "1",
         "2",
         "0",
         "34.0",
         "0",
         "0",
         "13.0",
         "0"
        ],
        [
         "22",
         "23",
         "1",
         "3",
         "1",
         "15.0",
         "0",
         "0",
         "8.0292",
         "2"
        ],
        [
         "23",
         "24",
         "1",
         "1",
         "0",
         "28.0",
         "0",
         "0",
         "35.5",
         "0"
        ],
        [
         "24",
         "25",
         "0",
         "3",
         "1",
         "8.0",
         "3",
         "1",
         "21.075",
         "0"
        ],
        [
         "25",
         "26",
         "1",
         "3",
         "1",
         "38.0",
         "1",
         "5",
         "31.3875",
         "0"
        ],
        [
         "26",
         "27",
         "0",
         "3",
         "0",
         "29.64209269662921",
         "0",
         "0",
         "7.225",
         "1"
        ],
        [
         "27",
         "28",
         "0",
         "1",
         "0",
         "19.0",
         "3",
         "2",
         "263.0",
         "0"
        ],
        [
         "28",
         "29",
         "1",
         "3",
         "1",
         "29.64209269662921",
         "0",
         "0",
         "7.8792",
         "2"
        ],
        [
         "29",
         "30",
         "0",
         "3",
         "0",
         "29.64209269662921",
         "0",
         "0",
         "7.8958",
         "0"
        ],
        [
         "30",
         "31",
         "0",
         "1",
         "0",
         "40.0",
         "0",
         "0",
         "27.7208",
         "1"
        ],
        [
         "31",
         "32",
         "1",
         "1",
         "1",
         "29.64209269662921",
         "1",
         "0",
         "146.5208",
         "1"
        ],
        [
         "32",
         "33",
         "1",
         "3",
         "1",
         "29.64209269662921",
         "0",
         "0",
         "7.75",
         "2"
        ],
        [
         "33",
         "34",
         "0",
         "2",
         "0",
         "66.0",
         "0",
         "0",
         "10.5",
         "0"
        ],
        [
         "34",
         "35",
         "0",
         "1",
         "0",
         "28.0",
         "1",
         "0",
         "82.1708",
         "1"
        ],
        [
         "35",
         "36",
         "0",
         "1",
         "0",
         "42.0",
         "1",
         "0",
         "52.0",
         "0"
        ],
        [
         "36",
         "37",
         "1",
         "3",
         "0",
         "29.64209269662921",
         "0",
         "0",
         "7.2292",
         "1"
        ],
        [
         "37",
         "38",
         "0",
         "3",
         "0",
         "21.0",
         "0",
         "0",
         "8.05",
         "0"
        ],
        [
         "38",
         "39",
         "0",
         "3",
         "1",
         "18.0",
         "2",
         "0",
         "18.0",
         "0"
        ],
        [
         "39",
         "40",
         "1",
         "3",
         "1",
         "14.0",
         "1",
         "0",
         "11.2417",
         "1"
        ],
        [
         "40",
         "41",
         "0",
         "3",
         "1",
         "40.0",
         "1",
         "0",
         "9.475",
         "0"
        ],
        [
         "41",
         "42",
         "0",
         "2",
         "1",
         "27.0",
         "1",
         "0",
         "21.0",
         "0"
        ],
        [
         "42",
         "43",
         "0",
         "3",
         "0",
         "29.64209269662921",
         "0",
         "0",
         "7.8958",
         "1"
        ],
        [
         "43",
         "44",
         "1",
         "2",
         "1",
         "3.0",
         "1",
         "2",
         "41.5792",
         "1"
        ],
        [
         "44",
         "45",
         "1",
         "3",
         "1",
         "19.0",
         "0",
         "0",
         "7.8792",
         "2"
        ],
        [
         "45",
         "46",
         "0",
         "3",
         "0",
         "29.64209269662921",
         "0",
         "0",
         "8.05",
         "0"
        ],
        [
         "46",
         "47",
         "0",
         "3",
         "0",
         "29.64209269662921",
         "1",
         "0",
         "15.5",
         "2"
        ],
        [
         "47",
         "48",
         "1",
         "3",
         "1",
         "29.64209269662921",
         "0",
         "0",
         "7.75",
         "2"
        ],
        [
         "48",
         "49",
         "0",
         "3",
         "0",
         "29.64209269662921",
         "2",
         "0",
         "21.6792",
         "1"
        ],
        [
         "49",
         "50",
         "0",
         "3",
         "1",
         "18.0",
         "1",
         "0",
         "17.8",
         "0"
        ]
       ],
       "shape": {
        "columns": 9,
        "rows": 889
       }
      },
      "text/html": [
       "<div>\n",
       "<style scoped>\n",
       "    .dataframe tbody tr th:only-of-type {\n",
       "        vertical-align: middle;\n",
       "    }\n",
       "\n",
       "    .dataframe tbody tr th {\n",
       "        vertical-align: top;\n",
       "    }\n",
       "\n",
       "    .dataframe thead th {\n",
       "        text-align: right;\n",
       "    }\n",
       "</style>\n",
       "<table border=\"1\" class=\"dataframe\">\n",
       "  <thead>\n",
       "    <tr style=\"text-align: right;\">\n",
       "      <th></th>\n",
       "      <th>PassengerId</th>\n",
       "      <th>Survived</th>\n",
       "      <th>Pclass</th>\n",
       "      <th>Sex</th>\n",
       "      <th>Age</th>\n",
       "      <th>SibSp</th>\n",
       "      <th>Parch</th>\n",
       "      <th>Fare</th>\n",
       "      <th>Embarked</th>\n",
       "    </tr>\n",
       "  </thead>\n",
       "  <tbody>\n",
       "    <tr>\n",
       "      <th>0</th>\n",
       "      <td>1</td>\n",
       "      <td>0</td>\n",
       "      <td>3</td>\n",
       "      <td>0</td>\n",
       "      <td>22.000000</td>\n",
       "      <td>1</td>\n",
       "      <td>0</td>\n",
       "      <td>7.2500</td>\n",
       "      <td>0</td>\n",
       "    </tr>\n",
       "    <tr>\n",
       "      <th>1</th>\n",
       "      <td>2</td>\n",
       "      <td>1</td>\n",
       "      <td>1</td>\n",
       "      <td>1</td>\n",
       "      <td>38.000000</td>\n",
       "      <td>1</td>\n",
       "      <td>0</td>\n",
       "      <td>71.2833</td>\n",
       "      <td>1</td>\n",
       "    </tr>\n",
       "    <tr>\n",
       "      <th>2</th>\n",
       "      <td>3</td>\n",
       "      <td>1</td>\n",
       "      <td>3</td>\n",
       "      <td>1</td>\n",
       "      <td>26.000000</td>\n",
       "      <td>0</td>\n",
       "      <td>0</td>\n",
       "      <td>7.9250</td>\n",
       "      <td>0</td>\n",
       "    </tr>\n",
       "    <tr>\n",
       "      <th>3</th>\n",
       "      <td>4</td>\n",
       "      <td>1</td>\n",
       "      <td>1</td>\n",
       "      <td>1</td>\n",
       "      <td>35.000000</td>\n",
       "      <td>1</td>\n",
       "      <td>0</td>\n",
       "      <td>53.1000</td>\n",
       "      <td>0</td>\n",
       "    </tr>\n",
       "    <tr>\n",
       "      <th>4</th>\n",
       "      <td>5</td>\n",
       "      <td>0</td>\n",
       "      <td>3</td>\n",
       "      <td>0</td>\n",
       "      <td>35.000000</td>\n",
       "      <td>0</td>\n",
       "      <td>0</td>\n",
       "      <td>8.0500</td>\n",
       "      <td>0</td>\n",
       "    </tr>\n",
       "    <tr>\n",
       "      <th>...</th>\n",
       "      <td>...</td>\n",
       "      <td>...</td>\n",
       "      <td>...</td>\n",
       "      <td>...</td>\n",
       "      <td>...</td>\n",
       "      <td>...</td>\n",
       "      <td>...</td>\n",
       "      <td>...</td>\n",
       "      <td>...</td>\n",
       "    </tr>\n",
       "    <tr>\n",
       "      <th>886</th>\n",
       "      <td>887</td>\n",
       "      <td>0</td>\n",
       "      <td>2</td>\n",
       "      <td>0</td>\n",
       "      <td>27.000000</td>\n",
       "      <td>0</td>\n",
       "      <td>0</td>\n",
       "      <td>13.0000</td>\n",
       "      <td>0</td>\n",
       "    </tr>\n",
       "    <tr>\n",
       "      <th>887</th>\n",
       "      <td>888</td>\n",
       "      <td>1</td>\n",
       "      <td>1</td>\n",
       "      <td>1</td>\n",
       "      <td>19.000000</td>\n",
       "      <td>0</td>\n",
       "      <td>0</td>\n",
       "      <td>30.0000</td>\n",
       "      <td>0</td>\n",
       "    </tr>\n",
       "    <tr>\n",
       "      <th>888</th>\n",
       "      <td>889</td>\n",
       "      <td>0</td>\n",
       "      <td>3</td>\n",
       "      <td>1</td>\n",
       "      <td>29.642093</td>\n",
       "      <td>1</td>\n",
       "      <td>2</td>\n",
       "      <td>23.4500</td>\n",
       "      <td>0</td>\n",
       "    </tr>\n",
       "    <tr>\n",
       "      <th>889</th>\n",
       "      <td>890</td>\n",
       "      <td>1</td>\n",
       "      <td>1</td>\n",
       "      <td>0</td>\n",
       "      <td>26.000000</td>\n",
       "      <td>0</td>\n",
       "      <td>0</td>\n",
       "      <td>30.0000</td>\n",
       "      <td>1</td>\n",
       "    </tr>\n",
       "    <tr>\n",
       "      <th>890</th>\n",
       "      <td>891</td>\n",
       "      <td>0</td>\n",
       "      <td>3</td>\n",
       "      <td>0</td>\n",
       "      <td>32.000000</td>\n",
       "      <td>0</td>\n",
       "      <td>0</td>\n",
       "      <td>7.7500</td>\n",
       "      <td>2</td>\n",
       "    </tr>\n",
       "  </tbody>\n",
       "</table>\n",
       "<p>889 rows × 9 columns</p>\n",
       "</div>"
      ],
      "text/plain": [
       "     PassengerId  Survived  Pclass  Sex        Age  SibSp  Parch     Fare  \\\n",
       "0              1         0       3    0  22.000000      1      0   7.2500   \n",
       "1              2         1       1    1  38.000000      1      0  71.2833   \n",
       "2              3         1       3    1  26.000000      0      0   7.9250   \n",
       "3              4         1       1    1  35.000000      1      0  53.1000   \n",
       "4              5         0       3    0  35.000000      0      0   8.0500   \n",
       "..           ...       ...     ...  ...        ...    ...    ...      ...   \n",
       "886          887         0       2    0  27.000000      0      0  13.0000   \n",
       "887          888         1       1    1  19.000000      0      0  30.0000   \n",
       "888          889         0       3    1  29.642093      1      2  23.4500   \n",
       "889          890         1       1    0  26.000000      0      0  30.0000   \n",
       "890          891         0       3    0  32.000000      0      0   7.7500   \n",
       "\n",
       "     Embarked  \n",
       "0           0  \n",
       "1           1  \n",
       "2           0  \n",
       "3           0  \n",
       "4           0  \n",
       "..        ...  \n",
       "886         0  \n",
       "887         0  \n",
       "888         0  \n",
       "889         1  \n",
       "890         2  \n",
       "\n",
       "[889 rows x 9 columns]"
      ]
     },
     "execution_count": 20,
     "metadata": {},
     "output_type": "execute_result"
    }
   ],
   "source": [
    "df_train_for_lo"
   ]
  },
  {
   "cell_type": "code",
   "execution_count": 21,
   "id": "c9cfd199",
   "metadata": {},
   "outputs": [],
   "source": [
    "X = df_train_for_lo.loc[:, df_train_for_lo.columns != 'Survived']\n",
    "y = df_train_for_lo.loc[:, df_train_for_lo.columns == 'Survived']"
   ]
  },
  {
   "cell_type": "code",
   "execution_count": 22,
   "id": "7fff4f3f",
   "metadata": {},
   "outputs": [
    {
     "name": "stderr",
     "output_type": "stream",
     "text": [
      "c:\\ProgramData\\anaconda3\\Lib\\site-packages\\sklearn\\utils\\validation.py:1408: DataConversionWarning: A column-vector y was passed when a 1d array was expected. Please change the shape of y to (n_samples, ), for example using ravel().\n",
      "  y = column_or_1d(y, warn=True)\n",
      "c:\\ProgramData\\anaconda3\\Lib\\site-packages\\sklearn\\linear_model\\_logistic.py:465: ConvergenceWarning: lbfgs failed to converge (status=1):\n",
      "STOP: TOTAL NO. OF ITERATIONS REACHED LIMIT.\n",
      "\n",
      "Increase the number of iterations (max_iter) or scale the data as shown in:\n",
      "    https://scikit-learn.org/stable/modules/preprocessing.html\n",
      "Please also refer to the documentation for alternative solver options:\n",
      "    https://scikit-learn.org/stable/modules/linear_model.html#logistic-regression\n",
      "  n_iter_i = _check_optimize_result(\n"
     ]
    }
   ],
   "source": [
    "model = lo(random_state=42).fit(X, y)"
   ]
  },
  {
   "cell_type": "code",
   "execution_count": 23,
   "id": "f3285a04",
   "metadata": {},
   "outputs": [],
   "source": [
    "y_pred = model.predict(X)"
   ]
  },
  {
   "cell_type": "code",
   "execution_count": 24,
   "id": "2083731d",
   "metadata": {},
   "outputs": [
    {
     "data": {
      "text/plain": [
       "0.8008998875140607"
      ]
     },
     "execution_count": 24,
     "metadata": {},
     "output_type": "execute_result"
    }
   ],
   "source": [
    "model.score(X, y)"
   ]
  },
  {
   "cell_type": "code",
   "execution_count": 25,
   "id": "095c596f",
   "metadata": {},
   "outputs": [
    {
     "name": "stderr",
     "output_type": "stream",
     "text": [
      "C:\\Users\\dogot\\AppData\\Local\\Temp\\ipykernel_13260\\1220499287.py:11: SettingWithCopyWarning: \n",
      "A value is trying to be set on a copy of a slice from a DataFrame.\n",
      "Try using .loc[row_indexer,col_indexer] = value instead\n",
      "\n",
      "See the caveats in the documentation: https://pandas.pydata.org/pandas-docs/stable/user_guide/indexing.html#returning-a-view-versus-a-copy\n",
      "  df_test_for_lo['Sex'] = df_test_for_lo['Sex'].map({'male': 0, 'female': 1})\n",
      "C:\\Users\\dogot\\AppData\\Local\\Temp\\ipykernel_13260\\1220499287.py:12: SettingWithCopyWarning: \n",
      "A value is trying to be set on a copy of a slice from a DataFrame.\n",
      "Try using .loc[row_indexer,col_indexer] = value instead\n",
      "\n",
      "See the caveats in the documentation: https://pandas.pydata.org/pandas-docs/stable/user_guide/indexing.html#returning-a-view-versus-a-copy\n",
      "  df_test_for_lo['Embarked'] = df_test_for_lo['Embarked'].map({'S': 0, 'C': 1, 'Q': 2})\n"
     ]
    }
   ],
   "source": [
    "df_test_for_lo = df_test[['PassengerId', \n",
    "                           'Pclass', \n",
    "                           'Sex', \n",
    "                           'Age', \n",
    "                           'SibSp',\n",
    "                           'Parch', \n",
    "                           'Fare', \n",
    "                           'Embarked']]\n",
    "\n",
    "# 2. Преобразуем категориальные признаки в числовые (используя то же сопоставление)\n",
    "df_test_for_lo['Sex'] = df_test_for_lo['Sex'].map({'male': 0, 'female': 1})\n",
    "df_test_for_lo['Embarked'] = df_test_for_lo['Embarked'].map({'S': 0, 'C': 1, 'Q': 2})"
   ]
  },
  {
   "cell_type": "code",
   "execution_count": 26,
   "id": "9c7df304",
   "metadata": {},
   "outputs": [
    {
     "name": "stdout",
     "output_type": "stream",
     "text": [
      "<class 'pandas.core.frame.DataFrame'>\n",
      "RangeIndex: 418 entries, 0 to 417\n",
      "Data columns (total 8 columns):\n",
      " #   Column       Non-Null Count  Dtype  \n",
      "---  ------       --------------  -----  \n",
      " 0   PassengerId  418 non-null    int64  \n",
      " 1   Pclass       418 non-null    int64  \n",
      " 2   Sex          418 non-null    int64  \n",
      " 3   Age          418 non-null    float64\n",
      " 4   SibSp        418 non-null    int64  \n",
      " 5   Parch        418 non-null    int64  \n",
      " 6   Fare         418 non-null    float64\n",
      " 7   Embarked     418 non-null    int64  \n",
      "dtypes: float64(2), int64(6)\n",
      "memory usage: 26.3 KB\n",
      "None\n"
     ]
    },
    {
     "name": "stderr",
     "output_type": "stream",
     "text": [
      "C:\\Users\\dogot\\AppData\\Local\\Temp\\ipykernel_13260\\1877859084.py:4: FutureWarning: A value is trying to be set on a copy of a DataFrame or Series through chained assignment using an inplace method.\n",
      "The behavior will change in pandas 3.0. This inplace method will never work because the intermediate object on which we are setting values always behaves as a copy.\n",
      "\n",
      "For example, when doing 'df[col].method(value, inplace=True)', try using 'df.method({col: value}, inplace=True)' or df[col] = df[col].method(value) instead, to perform the operation inplace on the original object.\n",
      "\n",
      "\n",
      "  df_test_for_lo['Age'].fillna(mean_age_train, inplace=True)\n",
      "C:\\Users\\dogot\\AppData\\Local\\Temp\\ipykernel_13260\\1877859084.py:4: SettingWithCopyWarning: \n",
      "A value is trying to be set on a copy of a slice from a DataFrame\n",
      "\n",
      "See the caveats in the documentation: https://pandas.pydata.org/pandas-docs/stable/user_guide/indexing.html#returning-a-view-versus-a-copy\n",
      "  df_test_for_lo['Age'].fillna(mean_age_train, inplace=True)\n",
      "C:\\Users\\dogot\\AppData\\Local\\Temp\\ipykernel_13260\\1877859084.py:8: FutureWarning: A value is trying to be set on a copy of a DataFrame or Series through chained assignment using an inplace method.\n",
      "The behavior will change in pandas 3.0. This inplace method will never work because the intermediate object on which we are setting values always behaves as a copy.\n",
      "\n",
      "For example, when doing 'df[col].method(value, inplace=True)', try using 'df.method({col: value}, inplace=True)' or df[col] = df[col].method(value) instead, to perform the operation inplace on the original object.\n",
      "\n",
      "\n",
      "  df_test_for_lo['Fare'].fillna(mean_fare_train, inplace=True)\n",
      "C:\\Users\\dogot\\AppData\\Local\\Temp\\ipykernel_13260\\1877859084.py:8: SettingWithCopyWarning: \n",
      "A value is trying to be set on a copy of a slice from a DataFrame\n",
      "\n",
      "See the caveats in the documentation: https://pandas.pydata.org/pandas-docs/stable/user_guide/indexing.html#returning-a-view-versus-a-copy\n",
      "  df_test_for_lo['Fare'].fillna(mean_fare_train, inplace=True)\n"
     ]
    }
   ],
   "source": [
    "# 3. Заполняем пропуски в 'Age' и 'Fare'. \n",
    "# ВАЖНО: Используем среднее значение из ТРЕНИРОВОЧНОГО набора, чтобы избежать \"утечки данных\".\n",
    "mean_age_train = df_train_for_lo['Age'].mean()\n",
    "df_test_for_lo['Age'].fillna(mean_age_train, inplace=True)\n",
    "\n",
    "# В тестовом наборе есть один пропуск в 'Fare', заполним его средним значением тарифа из тренировочного набора\n",
    "mean_fare_train = df_train_for_lo['Fare'].mean()\n",
    "df_test_for_lo['Fare'].fillna(mean_fare_train, inplace=True)\n",
    "\n",
    "# Проверим, что пропусков не осталось\n",
    "print(df_test_for_lo.info())"
   ]
  },
  {
   "cell_type": "code",
   "execution_count": 27,
   "id": "ee433e34",
   "metadata": {},
   "outputs": [],
   "source": [
    "# Делаем предсказания для тестовой выборки\n",
    "test_predictions = model.predict(df_test_for_lo)"
   ]
  },
  {
   "cell_type": "code",
   "execution_count": 28,
   "id": "8451b420",
   "metadata": {},
   "outputs": [],
   "source": [
    "predictions = pd.DataFrame({\n",
    "    'PassengerId': df_test['PassengerId'],\n",
    "    'Survived': test_predictions\n",
    "})"
   ]
  },
  {
   "cell_type": "code",
   "execution_count": 29,
   "id": "097c5b81",
   "metadata": {},
   "outputs": [
    {
     "name": "stdout",
     "output_type": "stream",
     "text": [
      "Файл submission.csv успешно создан!\n"
     ]
    },
    {
     "data": {
      "application/vnd.microsoft.datawrangler.viewer.v0+json": {
       "columns": [
        {
         "name": "index",
         "rawType": "int64",
         "type": "integer"
        },
        {
         "name": "PassengerId",
         "rawType": "int64",
         "type": "integer"
        },
        {
         "name": "Survived",
         "rawType": "int64",
         "type": "integer"
        }
       ],
       "ref": "7b59b2e6-8263-4c3d-b55b-af71e629f1e5",
       "rows": [
        [
         "0",
         "892",
         "0"
        ],
        [
         "1",
         "893",
         "0"
        ],
        [
         "2",
         "894",
         "0"
        ],
        [
         "3",
         "895",
         "0"
        ],
        [
         "4",
         "896",
         "1"
        ]
       ],
       "shape": {
        "columns": 2,
        "rows": 5
       }
      },
      "text/html": [
       "<div>\n",
       "<style scoped>\n",
       "    .dataframe tbody tr th:only-of-type {\n",
       "        vertical-align: middle;\n",
       "    }\n",
       "\n",
       "    .dataframe tbody tr th {\n",
       "        vertical-align: top;\n",
       "    }\n",
       "\n",
       "    .dataframe thead th {\n",
       "        text-align: right;\n",
       "    }\n",
       "</style>\n",
       "<table border=\"1\" class=\"dataframe\">\n",
       "  <thead>\n",
       "    <tr style=\"text-align: right;\">\n",
       "      <th></th>\n",
       "      <th>PassengerId</th>\n",
       "      <th>Survived</th>\n",
       "    </tr>\n",
       "  </thead>\n",
       "  <tbody>\n",
       "    <tr>\n",
       "      <th>0</th>\n",
       "      <td>892</td>\n",
       "      <td>0</td>\n",
       "    </tr>\n",
       "    <tr>\n",
       "      <th>1</th>\n",
       "      <td>893</td>\n",
       "      <td>0</td>\n",
       "    </tr>\n",
       "    <tr>\n",
       "      <th>2</th>\n",
       "      <td>894</td>\n",
       "      <td>0</td>\n",
       "    </tr>\n",
       "    <tr>\n",
       "      <th>3</th>\n",
       "      <td>895</td>\n",
       "      <td>0</td>\n",
       "    </tr>\n",
       "    <tr>\n",
       "      <th>4</th>\n",
       "      <td>896</td>\n",
       "      <td>1</td>\n",
       "    </tr>\n",
       "  </tbody>\n",
       "</table>\n",
       "</div>"
      ],
      "text/plain": [
       "   PassengerId  Survived\n",
       "0          892         0\n",
       "1          893         0\n",
       "2          894         0\n",
       "3          895         0\n",
       "4          896         1"
      ]
     },
     "metadata": {},
     "output_type": "display_data"
    }
   ],
   "source": [
    "# Сохраняем DataFrame в csv-файл. index=False, чтобы не записывать индекс DataFrame в файл.\n",
    "predictions.to_csv('submission.csv', index=False)\n",
    "\n",
    "print(\"Файл submission.csv успешно создан!\")\n",
    "display(predictions.head())"
   ]
  }
 ],
 "metadata": {
  "kernelspec": {
   "display_name": "base",
   "language": "python",
   "name": "python3"
  },
  "language_info": {
   "codemirror_mode": {
    "name": "ipython",
    "version": 3
   },
   "file_extension": ".py",
   "mimetype": "text/x-python",
   "name": "python",
   "nbconvert_exporter": "python",
   "pygments_lexer": "ipython3",
   "version": "3.13.5"
  }
 },
 "nbformat": 4,
 "nbformat_minor": 5
}
